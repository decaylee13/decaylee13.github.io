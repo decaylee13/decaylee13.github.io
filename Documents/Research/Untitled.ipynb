{
 "cells": [
  {
   "cell_type": "code",
   "execution_count": 1,
   "id": "500ec28e-6cdf-4e3a-95cf-ea9d02341458",
   "metadata": {},
   "outputs": [],
   "source": [
    "#imports \n",
    "import numpy as np\n",
    "import matplotlib.pyplot as plt\n",
    "from cellpose import models, io, utils, transforms"
   ]
  },
  {
   "cell_type": "code",
   "execution_count": 2,
   "id": "19871eb8-c530-42c1-9d43-484977e3b0ec",
   "metadata": {},
   "outputs": [
    {
     "name": "stdout",
     "output_type": "stream",
     "text": [
      "Using Cellpose version: \n",
      "cellpose version: \t3.1.1.1 \n",
      "platform:       \tdarwin \n",
      "python version: \t3.9.18 \n",
      "torch version:  \t2.6.0\n"
     ]
    }
   ],
   "source": [
    "import cellpose\n",
    "print(f\"Using Cellpose version: {cellpose.version_str}\")"
   ]
  },
  {
   "cell_type": "code",
   "execution_count": 3,
   "id": "0ad501cf-7d56-4c0f-b456-ac58ae283e38",
   "metadata": {},
   "outputs": [
    {
     "ename": "ImportError",
     "evalue": "cannot import name 'get_test_images' from 'cellpose.core' (/opt/anaconda3/envs/cellpose_research/lib/python3.9/site-packages/cellpose/core.py)",
     "output_type": "error",
     "traceback": [
      "\u001b[0;31m---------------------------------------------------------------------------\u001b[0m",
      "\u001b[0;31mImportError\u001b[0m                               Traceback (most recent call last)",
      "Cell \u001b[0;32mIn[3], line 7\u001b[0m\n\u001b[1;32m      4\u001b[0m \u001b[38;5;28;01mfrom\u001b[39;00m\u001b[38;5;250m \u001b[39m\u001b[38;5;21;01mcellpose\u001b[39;00m\u001b[38;5;250m \u001b[39m\u001b[38;5;28;01mimport\u001b[39;00m models, io, utils, transforms\n\u001b[1;32m      6\u001b[0m \u001b[38;5;66;03m# Load a sample image\u001b[39;00m\n\u001b[0;32m----> 7\u001b[0m \u001b[38;5;28;01mfrom\u001b[39;00m\u001b[38;5;250m \u001b[39m\u001b[38;5;21;01mcellpose\u001b[39;00m\u001b[38;5;21;01m.\u001b[39;00m\u001b[38;5;21;01mcore\u001b[39;00m\u001b[38;5;250m \u001b[39m\u001b[38;5;28;01mimport\u001b[39;00m get_test_images\n\u001b[1;32m      8\u001b[0m img \u001b[38;5;241m=\u001b[39m get_test_images()[\u001b[38;5;241m0\u001b[39m]\n\u001b[1;32m     10\u001b[0m \u001b[38;5;66;03m# Display the image\u001b[39;00m\n",
      "\u001b[0;31mImportError\u001b[0m: cannot import name 'get_test_images' from 'cellpose.core' (/opt/anaconda3/envs/cellpose_research/lib/python3.9/site-packages/cellpose/core.py)"
     ]
    }
   ],
   "source": [
    "# Import necessary libraries\n",
    "import numpy as np\n",
    "import matplotlib.pyplot as plt\n",
    "from cellpose import models, io, utils, transforms\n",
    "\n",
    "# Load a sample image\n",
    "from cellpose.core import get_test_images\n",
    "img = get_test_images()[0]\n",
    "\n",
    "# Display the image\n",
    "plt.figure(figsize=(8, 8))\n",
    "plt.imshow(img if img.ndim==2 else img[0], cmap='gray')\n",
    "plt.title('Original Image')\n",
    "plt.show()\n",
    "\n",
    "# Initialize the model\n",
    "model = models.CellposeModel(gpu=True, model_type=\"cyto3\")\n",
    "\n",
    "# Run the segmentation\n",
    "masks, flows, styles = model.eval(img, \n",
    "                                 diameter=None,\n",
    "                                 flow_threshold=0.4,\n",
    "                                 channels=[0,0])\n",
    "\n",
    "# Display the results\n",
    "plt.figure(figsize=(15, 8))\n",
    "plt.subplot(131)\n",
    "plt.imshow(img if img.ndim==2 else img[0], cmap='gray')\n",
    "plt.title('Original Image')\n",
    "plt.axis('off')\n",
    "\n",
    "plt.subplot(132)\n",
    "plt.imshow(masks)\n",
    "plt.title('Segmentation Masks')\n",
    "plt.axis('off')\n",
    "\n",
    "plt.subplot(133)\n",
    "outlines = utils.outlines_list(masks)\n",
    "plt.imshow(img if img.ndim==2 else img[0], cmap='gray')\n",
    "for o in outlines:\n",
    "    plt.plot(o[:,0], o[:,1], 'r')\n",
    "plt.title('Cell Outlines')\n",
    "plt.axis('off')\n",
    "\n",
    "plt.tight_layout()\n",
    "plt.show()\n",
    "\n",
    "# Print some information about the segmentation\n",
    "print(f\"Found {masks.max()} cells\")"
   ]
  }
 ],
 "metadata": {
  "kernelspec": {
   "display_name": "Python (cellpose_research)",
   "language": "python",
   "name": "cellpose_research"
  },
  "language_info": {
   "codemirror_mode": {
    "name": "ipython",
    "version": 3
   },
   "file_extension": ".py",
   "mimetype": "text/x-python",
   "name": "python",
   "nbconvert_exporter": "python",
   "pygments_lexer": "ipython3",
   "version": "3.9.18"
  }
 },
 "nbformat": 4,
 "nbformat_minor": 5
}
